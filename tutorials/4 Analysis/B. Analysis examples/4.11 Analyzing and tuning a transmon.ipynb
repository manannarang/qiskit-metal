{
 "cells": [
  {
   "cell_type": "markdown",
   "id": "0d4f2301",
   "metadata": {},
   "source": [
    "# Analyzing and tuning a transmon qubit\n",
    "### Prerequisite\n",
    "A working local installation of Ansys"
   ]
  },
  {
   "cell_type": "markdown",
   "id": "452d9633",
   "metadata": {},
   "source": [
    "### Transmon only: render into Ansys.\n",
    "1. Run finite element eigenmode analysis. <br>\n",
    "1. Plot fields and display them. <br>\n",
    "1. Set up EPR junction dictionary. <br>\n",
    "1. Run EPR analysis on single mode. <br>\n",
    "1. Get qubit freq and anharmonicity. <br>\n",
    "1. Calculate EPR of substrate.  <br>\n",
    "1. Render to Ansys Q3D. <br>\n",
    "1. Calculate the capacitance matrix. <br>"
   ]
  },
  {
   "cell_type": "code",
   "execution_count": null,
   "id": "3d5a2f13",
   "metadata": {},
   "outputs": [],
   "source": [
    "%load_ext autoreload\n",
    "%autoreload 2\n",
    "\n",
    "import qiskit_metal as metal\n",
    "from qiskit_metal import designs, draw\n",
    "from qiskit_metal import MetalGUI, Dict, Headings\n",
    "import pyEPR as epr"
   ]
  },
  {
   "cell_type": "code",
   "execution_count": null,
   "id": "9418ef19",
   "metadata": {},
   "outputs": [],
   "source": [
    "%metal_heading Create a single transmon qubit "
   ]
  },
  {
   "cell_type": "markdown",
   "id": "bf35389b",
   "metadata": {},
   "source": [
    "### Create the design in Metal\n",
    "Setup a design of a given dimension. Dimensions will be respected in the design rendering."
   ]
  },
  {
   "cell_type": "code",
   "execution_count": null,
   "id": "1827c12b",
   "metadata": {},
   "outputs": [],
   "source": [
    "design = designs.DesignPlanar({}, True)\n",
    "design.chips.main.size['size_x'] = '2mm'\n",
    "design.chips.main.size['size_y'] = '2mm'\n",
    "hfss = design.renderers.hfss\n",
    "\n",
    "gui = MetalGUI(design)"
   ]
  },
  {
   "cell_type": "markdown",
   "id": "c35536ef",
   "metadata": {},
   "source": [
    "Create a single transmon with one readout resonator and move it to the center of the chip previously defined."
   ]
  },
  {
   "cell_type": "code",
   "execution_count": null,
   "id": "464923f3",
   "metadata": {},
   "outputs": [],
   "source": [
    "from qiskit_metal.qlibrary.qubits.transmon_pocket import TransmonPocket\n",
    "\n",
    "design.delete_all_components()\n",
    "\n",
    "q1 = TransmonPocket(design, 'Q1', options = dict(\n",
    "    pad_width = '425 um', \n",
    "    pocket_height = '650um',\n",
    "    connection_pads=dict(\n",
    "        readout = dict(loc_W=+1,loc_H=+1, pad_width='200um')\n",
    "    )))\n",
    "\n",
    "gui.rebuild()\n",
    "gui.autoscale()"
   ]
  },
  {
   "cell_type": "markdown",
   "id": "1eba8747",
   "metadata": {},
   "source": [
    "### Establish a connection between Metal and Ansys\n",
    "First you will need to open Ansys. <br>\n",
    "You can either open Ansys manually, or by executing one of the lines in the following cell. <br>\n",
    "open_ansys() will look by default for the 2021 R2 version of Ansys. You can easily reroute it to your Ansys of choice by providing the name of the environment variable that contains the path (path_env) or the path itself (path)"
   ]
  },
  {
   "cell_type": "code",
   "execution_count": null,
   "id": "ee980dc5",
   "metadata": {},
   "outputs": [],
   "source": [
    "hfss.open_ansys()   # this opens Ansys 2021 R2 if present\n",
    "# hfss.open_ansys(path_var='ANSYSEM_ROOT211')\n",
    "# hfss.open_ansys(path='C:\\Program Files\\AnsysEM\\AnsysEM21.1\\Win64')\n",
    "# hfss.open_ansys(path='../../../Program Files/AnsysEM/AnsysEM21.1/Win64')"
   ]
  },
  {
   "cell_type": "markdown",
   "id": "a803e65e",
   "metadata": {},
   "source": [
    "If a project was not automatically opened, you can manually create/open one from the Ansys GUI. Alternatively you can execute the following cell."
   ]
  },
  {
   "cell_type": "code",
   "execution_count": null,
   "id": "12bddd4c",
   "metadata": {},
   "outputs": [],
   "source": [
    "# hfss.new_ansys_project()"
   ]
  },
  {
   "cell_type": "markdown",
   "id": "87546e91",
   "metadata": {},
   "source": [
    "Finally connect this Jupyter Notebook session with the active Ansys project."
   ]
  },
  {
   "cell_type": "code",
   "execution_count": null,
   "id": "8b206123",
   "metadata": {},
   "outputs": [],
   "source": [
    "hfss.connect_ansys()\n",
    "# hfss.connect_ansys('C:\\\\project_path\\\\', 'Project1')  # will open a saved project before linking the Jupyter session"
   ]
  },
  {
   "cell_type": "markdown",
   "id": "513e6968",
   "metadata": {},
   "source": [
    "### Prepare and run the analysis\n",
    "\n",
    "Create and activate an eigenmode design called \"TransmonQubit\"."
   ]
  },
  {
   "cell_type": "code",
   "execution_count": null,
   "id": "ff649108",
   "metadata": {},
   "outputs": [],
   "source": [
    "hfss.activate_eigenmode_design(\"TransmonQubit\")"
   ]
  },
  {
   "cell_type": "markdown",
   "id": "93878a11",
   "metadata": {},
   "source": [
    "Render the single qubit in Metal, called Q1, to \"TransmonQubit\" design in Ansys."
   ]
  },
  {
   "cell_type": "code",
   "execution_count": null,
   "id": "a8fab4c7",
   "metadata": {},
   "outputs": [],
   "source": [
    "hfss.render_design(['Q1'], [])\n",
    "hfss.save_screenshot()"
   ]
  },
  {
   "cell_type": "markdown",
   "id": "f430010e",
   "metadata": {},
   "source": [
    "Set the convergence parameters and junction properties in the Ansys design. <br>\n",
    "Then run the analysis and plot the convergence."
   ]
  },
  {
   "cell_type": "code",
   "execution_count": null,
   "id": "343ceb8b",
   "metadata": {},
   "outputs": [],
   "source": [
    "# Analysis properties\n",
    "setup = hfss.pinfo.setup\n",
    "setup.passes = 10\n",
    "print(f\"\"\"\n",
    "Number of eigenmodes to find             = {setup.n_modes}\n",
    "Number of simulation passes              = {setup.passes}\n",
    "Convergence freq max delta percent diff  = {setup.delta_f}\n",
    "\"\"\")\n",
    "\n",
    "pinfo = hfss.pinfo\n",
    "pinfo.design.set_variable('Lj', '10 nH')\n",
    "pinfo.design.set_variable('Cj', '0 fF')\n",
    "setup.analyze()\n",
    "\n",
    "hfss.plot_convergences()"
   ]
  },
  {
   "cell_type": "markdown",
   "id": "b93a7ed3",
   "metadata": {},
   "source": [
    "### Plot fields and display them\n",
    "Display the Ansys modeler window and plot the E-field on the chip's surface."
   ]
  },
  {
   "cell_type": "code",
   "execution_count": null,
   "id": "e2199ade",
   "metadata": {},
   "outputs": [],
   "source": [
    "hfss.modeler._modeler.ShowWindow()\n",
    "hfss.plot_ansys_fields('main')\n",
    "hfss.save_screenshot()"
   ]
  },
  {
   "cell_type": "markdown",
   "id": "0d946b27",
   "metadata": {},
   "source": [
    "Delete the newly created E-field plot to prepare for the next phase."
   ]
  },
  {
   "cell_type": "code",
   "execution_count": null,
   "id": "5afdb093",
   "metadata": {},
   "outputs": [],
   "source": [
    "hfss.plot_ansys_delete(['Mag_E1'])"
   ]
  },
  {
   "cell_type": "code",
   "execution_count": null,
   "id": "c3b5a2e7",
   "metadata": {},
   "outputs": [],
   "source": [
    "%metal_print Energy-Participation-Ratio Analysis"
   ]
  },
  {
   "cell_type": "markdown",
   "id": "11e0c0f4",
   "metadata": {},
   "source": [
    "### Set up EPR parameters\n",
    "Specify the junctions in the model; in this case there's only one, namely 'jj'."
   ]
  },
  {
   "cell_type": "code",
   "execution_count": null,
   "id": "660c16e0",
   "metadata": {},
   "outputs": [],
   "source": [
    "#Non-linear (Josephson) junction\n",
    "pinfo = hfss.pinfo # Project info\n",
    "pinfo.junctions['jj'] = {'Lj_variable': 'Lj', 'rect': 'JJ_rect_Lj_Q1_rect_jj', \n",
    "                             'line': 'JJ_Lj_Q1_rect_jj_',  'Cj_variable': 'Cj'}\n",
    "pinfo.validate_junction_info() # Check that valid names of variables and objects have been supplied\n",
    "pinfo.dissipative['dielectrics_bulk'] = ['main'] # Dissipative elements: specify\n",
    "# Handles  microwave analysis on eigenmode solutions\n",
    "eprd = epr.DistributedAnalysis(pinfo)"
   ]
  },
  {
   "cell_type": "markdown",
   "id": "56833ce1",
   "metadata": {},
   "source": [
    "Find the electric and magnetic energy stored in the substrate and the system as a whole."
   ]
  },
  {
   "cell_type": "code",
   "execution_count": null,
   "id": "657f70bf",
   "metadata": {},
   "outputs": [],
   "source": [
    "ℰ_elec = eprd.calc_energy_electric()\n",
    "ℰ_elec_substrate = eprd.calc_energy_electric(None, 'main')\n",
    "ℰ_mag = eprd.calc_energy_magnetic()\n",
    "\n",
    "print(f\"\"\"\n",
    "ℰ_elec_all       = {ℰ_elec}\n",
    "ℰ_elec_substrate = {ℰ_elec_substrate}\n",
    "EPR of substrate = {ℰ_elec_substrate / ℰ_elec * 100 :.1f}%\n",
    "\n",
    "ℰ_mag    = {ℰ_mag}\n",
    "\"\"\")"
   ]
  },
  {
   "cell_type": "markdown",
   "id": "8ee2ae4f",
   "metadata": {},
   "source": [
    "### Run EPR analysis\n",
    "\n",
    "Perform EPR analysis for all modes and variations."
   ]
  },
  {
   "cell_type": "code",
   "execution_count": null,
   "id": "7482c82e",
   "metadata": {},
   "outputs": [],
   "source": [
    "eprd.do_EPR_analysis()\n",
    "\n",
    "# 4a. Perform Hamiltonian spectrum post-analysis, building on mw solutions using EPR\n",
    "epra = epr.QuantumAnalysis(eprd.data_filename)\n",
    "epra.analyze_all_variations(cos_trunc = 8, fock_trunc = 7)\n",
    "\n",
    "# 4b. Report solved results\n",
    "swp_variable = 'Lj' # suppose we swept an optimetric analysis vs. inductance Lj_alice\n",
    "epra.plot_hamiltonian_results(swp_variable=swp_variable)\n",
    "epra.report_results(swp_variable=swp_variable, numeric=True)"
   ]
  },
  {
   "cell_type": "markdown",
   "id": "e6bd1d0d",
   "metadata": {},
   "source": [
    "Release Ansys session"
   ]
  },
  {
   "cell_type": "code",
   "execution_count": null,
   "id": "c5e6df56",
   "metadata": {},
   "outputs": [],
   "source": [
    "hfss.disconnect_ansys()"
   ]
  },
  {
   "cell_type": "code",
   "execution_count": null,
   "id": "cf7a66b1",
   "metadata": {},
   "outputs": [],
   "source": [
    "%metal_print Q3D Analysis"
   ]
  },
  {
   "cell_type": "markdown",
   "id": "68f0d467",
   "metadata": {},
   "source": [
    "Next we will look at a lumped oscillator model (LOM) for the same design.\n",
    "\n",
    "## Render to Ansys Q3D"
   ]
  },
  {
   "cell_type": "code",
   "execution_count": null,
   "id": "9f9408b1",
   "metadata": {},
   "outputs": [],
   "source": [
    "q3d = design.renderers.q3d"
   ]
  },
  {
   "cell_type": "markdown",
   "id": "6181b41e",
   "metadata": {},
   "source": [
    "Again, we establish a connection with Ansys and add a design."
   ]
  },
  {
   "cell_type": "code",
   "execution_count": null,
   "id": "79516cc0",
   "metadata": {},
   "outputs": [],
   "source": [
    "q3d.connect_ansys()\n",
    "q3d.activate_q3d_design(\"TransmonQubit_q3d\")"
   ]
  },
  {
   "cell_type": "markdown",
   "id": "d92dad53",
   "metadata": {},
   "source": [
    "Next, we render the qubit to Ansys Q3D for analysis. We set the readout pin of the qubit in the 'open' termination list of the render so its capacitance is properly simulated."
   ]
  },
  {
   "cell_type": "code",
   "execution_count": null,
   "id": "dd53d528",
   "metadata": {},
   "outputs": [],
   "source": [
    "q3d.render_design(['Q1'], [('Q1','readout')])"
   ]
  },
  {
   "cell_type": "markdown",
   "id": "288a0eb4",
   "metadata": {},
   "source": [
    "## Use Ansys Q3D to obtain the capacitance matrix"
   ]
  },
  {
   "cell_type": "code",
   "execution_count": null,
   "id": "8f10cdcc",
   "metadata": {},
   "outputs": [],
   "source": [
    "#Analyze the default solution setup\n",
    "q3d.analyze_setup(\"Setup\")"
   ]
  },
  {
   "cell_type": "markdown",
   "id": "381d7118",
   "metadata": {},
   "source": [
    "This simulation had 4 nets, the two charge islands of the floating transmon, the readout coupler, and the ground, resulting in a 4x4 capacitance matrix."
   ]
  },
  {
   "cell_type": "code",
   "execution_count": null,
   "id": "71554ccd",
   "metadata": {},
   "outputs": [],
   "source": [
    "# Using the analysis results, get its capacitance matrix as a dataframe.\n",
    "q3d.get_capacitance_matrix()"
   ]
  },
  {
   "cell_type": "markdown",
   "id": "a30bf5ed",
   "metadata": {},
   "source": [
    "The optional keyword parameters of get_capacitance_matrix are given below: <br><br>\n",
    "variation: str = '' <br>\n",
    "solution_kind: str = 'AdaptivePass' <br>\n",
    "pass_number: int = 3"
   ]
  },
  {
   "cell_type": "code",
   "execution_count": null,
   "id": "a6b31e47",
   "metadata": {},
   "outputs": [],
   "source": [
    "# Run lumped oscillator model (LOM) simulations and save results in dict_lom.b\n",
    "dict_lom = q3d.lumped_oscillator_vs_passes(12.31, 2, 1, 7.0, [], 9)\n",
    "dict_lom"
   ]
  },
  {
   "cell_type": "markdown",
   "id": "ae14d1a7",
   "metadata": {},
   "source": [
    "The method takes the capacitance matrix of each pass of the simulation and determines multiple parameters, such as the qubits anharmonicity, or the readout chi.\n",
    "\n",
    "lumped_oscillator_vs_passes takes in the following parameters: <br><br>\n",
    "Lj_nH: float <br>\n",
    "Cj_fF: float <br>\n",
    "N: int <br>\n",
    "fr: Union[list, float] <br>\n",
    "fb: Union[list, float] <br>\n",
    "maxPass: int <br>\n",
    "variation: str = '' <br>\n",
    "solution_kind: str = 'AdaptivePass' <br>\n",
    "g_scale: float = 1"
   ]
  },
  {
   "cell_type": "code",
   "execution_count": null,
   "id": "b2b43a26",
   "metadata": {},
   "outputs": [],
   "source": [
    "q3d.plot_convergence_main(dict_lom);\n",
    "q3d.plot_convergence_chi(dict_lom)"
   ]
  },
  {
   "cell_type": "code",
   "execution_count": null,
   "id": "032a0681",
   "metadata": {},
   "outputs": [],
   "source": [
    "q3d.options"
   ]
  },
  {
   "cell_type": "code",
   "execution_count": null,
   "id": "f8fd480d",
   "metadata": {},
   "outputs": [],
   "source": [
    "q3d.disconnect_ansys()"
   ]
  },
  {
   "cell_type": "code",
   "execution_count": null,
   "id": "353b5d9f",
   "metadata": {},
   "outputs": [],
   "source": [
    "gui.main_window.close()"
   ]
  }
 ],
 "metadata": {
  "kernelspec": {
   "display_name": "Python 3",
   "language": "python",
   "name": "python3"
  },
  "language_info": {
   "codemirror_mode": {
    "name": "ipython",
    "version": 3
   },
   "file_extension": ".py",
   "mimetype": "text/x-python",
   "name": "python",
   "nbconvert_exporter": "python",
   "pygments_lexer": "ipython3",
   "version": "3.7.8"
  }
 },
 "nbformat": 4,
 "nbformat_minor": 5
}
